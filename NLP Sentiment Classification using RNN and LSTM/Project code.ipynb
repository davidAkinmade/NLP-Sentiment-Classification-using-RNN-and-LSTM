{
 "cells": [
  {
   "cell_type": "code",
   "execution_count": 1,
   "metadata": {},
   "outputs": [
    {
     "name": "stderr",
     "output_type": "stream",
     "text": [
      "[nltk_data] Downloading package punkt to\n",
      "[nltk_data]     C:\\Users\\akinmade\\AppData\\Roaming\\nltk_data...\n",
      "[nltk_data]   Package punkt is already up-to-date!\n"
     ]
    },
    {
     "data": {
      "text/plain": [
       "True"
      ]
     },
     "execution_count": 1,
     "metadata": {},
     "output_type": "execute_result"
    }
   ],
   "source": [
    "import numpy as np\n",
    "import pandas as pd\n",
    "import seaborn as sns\n",
    "import matplotlib.pyplot as plt\n",
    "import sklearn.metrics as metrics\n",
    "from pandas import read_csv\n",
    "from sklearn.model_selection import cross_val_score\n",
    "from sklearn.metrics import accuracy_score\n",
    "import os\n",
    "from tensorflow.python.keras.preprocessing.text import Tokenizer\n",
    "from tensorflow.python.keras.preprocessing.sequence import pad_sequences\n",
    "from keras.models import Sequential\n",
    "from keras.layers import Dense, Embedding, GRU, LSTM, BatchNormalization, Dropout\n",
    "from keras.layers.embeddings import Embedding\n",
    "from keras.initializers import Constant\n",
    "from keras.callbacks import ModelCheckpoint\n",
    "from keras.models import load_model\n",
    "from sklearn.linear_model import LogisticRegression\n",
    "from sklearn.metrics import accuracy_score\n",
    "from sklearn.metrics import precision_score\n",
    "from sklearn.metrics import recall_score\n",
    "from sklearn.metrics import f1_score\n",
    "from sklearn.metrics import classification_report\n",
    "from sklearn import metrics\n",
    "import string\n",
    "from nltk.tokenize import word_tokenize\n",
    "from nltk.corpus import stopwords\n",
    "from sklearn.model_selection import train_test_split, GridSearchCV, StratifiedKFold\n",
    "from imblearn.over_sampling import RandomOverSampler, SMOTE\n",
    "from itertools import chain\n",
    "import nltk\n",
    "nltk.download('punkt')"
   ]
  },
  {
   "cell_type": "markdown",
   "metadata": {},
   "source": [
    "# Data Pre-processing and Cleaning"
   ]
  },
  {
   "cell_type": "code",
   "execution_count": 3,
   "metadata": {},
   "outputs": [
    {
     "data": {
      "text/html": [
       "<div>\n",
       "<style scoped>\n",
       "    .dataframe tbody tr th:only-of-type {\n",
       "        vertical-align: middle;\n",
       "    }\n",
       "\n",
       "    .dataframe tbody tr th {\n",
       "        vertical-align: top;\n",
       "    }\n",
       "\n",
       "    .dataframe thead th {\n",
       "        text-align: right;\n",
       "    }\n",
       "</style>\n",
       "<table border=\"1\" class=\"dataframe\">\n",
       "  <thead>\n",
       "    <tr style=\"text-align: right;\">\n",
       "      <th></th>\n",
       "      <th>Id</th>\n",
       "      <th>ProductId</th>\n",
       "      <th>UserId</th>\n",
       "      <th>ProfileName</th>\n",
       "      <th>HelpfulnessNumerator</th>\n",
       "      <th>HelpfulnessDenominator</th>\n",
       "      <th>Score</th>\n",
       "      <th>Time</th>\n",
       "      <th>Summary</th>\n",
       "      <th>Text</th>\n",
       "    </tr>\n",
       "  </thead>\n",
       "  <tbody>\n",
       "    <tr>\n",
       "      <th>0</th>\n",
       "      <td>1</td>\n",
       "      <td>B001E4KFG0</td>\n",
       "      <td>A3SGXH7AUHU8GW</td>\n",
       "      <td>delmartian</td>\n",
       "      <td>1</td>\n",
       "      <td>1</td>\n",
       "      <td>5</td>\n",
       "      <td>1303862400</td>\n",
       "      <td>Good Quality Dog Food</td>\n",
       "      <td>I have bought several of the Vitality canned d...</td>\n",
       "    </tr>\n",
       "    <tr>\n",
       "      <th>1</th>\n",
       "      <td>2</td>\n",
       "      <td>B00813GRG4</td>\n",
       "      <td>A1D87F6ZCVE5NK</td>\n",
       "      <td>dll pa</td>\n",
       "      <td>0</td>\n",
       "      <td>0</td>\n",
       "      <td>1</td>\n",
       "      <td>1346976000</td>\n",
       "      <td>Not as Advertised</td>\n",
       "      <td>Product arrived labeled as Jumbo Salted Peanut...</td>\n",
       "    </tr>\n",
       "    <tr>\n",
       "      <th>2</th>\n",
       "      <td>3</td>\n",
       "      <td>B000LQOCH0</td>\n",
       "      <td>ABXLMWJIXXAIN</td>\n",
       "      <td>Natalia Corres \"Natalia Corres\"</td>\n",
       "      <td>1</td>\n",
       "      <td>1</td>\n",
       "      <td>4</td>\n",
       "      <td>1219017600</td>\n",
       "      <td>\"Delight\" says it all</td>\n",
       "      <td>This is a confection that has been around a fe...</td>\n",
       "    </tr>\n",
       "    <tr>\n",
       "      <th>3</th>\n",
       "      <td>4</td>\n",
       "      <td>B000UA0QIQ</td>\n",
       "      <td>A395BORC6FGVXV</td>\n",
       "      <td>Karl</td>\n",
       "      <td>3</td>\n",
       "      <td>3</td>\n",
       "      <td>2</td>\n",
       "      <td>1307923200</td>\n",
       "      <td>Cough Medicine</td>\n",
       "      <td>If you are looking for the secret ingredient i...</td>\n",
       "    </tr>\n",
       "    <tr>\n",
       "      <th>4</th>\n",
       "      <td>5</td>\n",
       "      <td>B006K2ZZ7K</td>\n",
       "      <td>A1UQRSCLF8GW1T</td>\n",
       "      <td>Michael D. Bigham \"M. Wassir\"</td>\n",
       "      <td>0</td>\n",
       "      <td>0</td>\n",
       "      <td>5</td>\n",
       "      <td>1350777600</td>\n",
       "      <td>Great taffy</td>\n",
       "      <td>Great taffy at a great price.  There was a wid...</td>\n",
       "    </tr>\n",
       "  </tbody>\n",
       "</table>\n",
       "</div>"
      ],
      "text/plain": [
       "   Id   ProductId          UserId                      ProfileName  \\\n",
       "0   1  B001E4KFG0  A3SGXH7AUHU8GW                       delmartian   \n",
       "1   2  B00813GRG4  A1D87F6ZCVE5NK                           dll pa   \n",
       "2   3  B000LQOCH0   ABXLMWJIXXAIN  Natalia Corres \"Natalia Corres\"   \n",
       "3   4  B000UA0QIQ  A395BORC6FGVXV                             Karl   \n",
       "4   5  B006K2ZZ7K  A1UQRSCLF8GW1T    Michael D. Bigham \"M. Wassir\"   \n",
       "\n",
       "   HelpfulnessNumerator  HelpfulnessDenominator  Score        Time  \\\n",
       "0                     1                       1      5  1303862400   \n",
       "1                     0                       0      1  1346976000   \n",
       "2                     1                       1      4  1219017600   \n",
       "3                     3                       3      2  1307923200   \n",
       "4                     0                       0      5  1350777600   \n",
       "\n",
       "                 Summary                                               Text  \n",
       "0  Good Quality Dog Food  I have bought several of the Vitality canned d...  \n",
       "1      Not as Advertised  Product arrived labeled as Jumbo Salted Peanut...  \n",
       "2  \"Delight\" says it all  This is a confection that has been around a fe...  \n",
       "3         Cough Medicine  If you are looking for the secret ingredient i...  \n",
       "4            Great taffy  Great taffy at a great price.  There was a wid...  "
      ]
     },
     "execution_count": 3,
     "metadata": {},
     "output_type": "execute_result"
    }
   ],
   "source": [
    "df = pd.read_csv(\"Reviews.csv\")\n",
    "df.head()"
   ]
  },
  {
   "cell_type": "code",
   "execution_count": 4,
   "metadata": {},
   "outputs": [
    {
     "data": {
      "text/html": [
       "<div>\n",
       "<style scoped>\n",
       "    .dataframe tbody tr th:only-of-type {\n",
       "        vertical-align: middle;\n",
       "    }\n",
       "\n",
       "    .dataframe tbody tr th {\n",
       "        vertical-align: top;\n",
       "    }\n",
       "\n",
       "    .dataframe thead th {\n",
       "        text-align: right;\n",
       "    }\n",
       "</style>\n",
       "<table border=\"1\" class=\"dataframe\">\n",
       "  <thead>\n",
       "    <tr style=\"text-align: right;\">\n",
       "      <th></th>\n",
       "      <th>Text</th>\n",
       "      <th>Sentiment</th>\n",
       "    </tr>\n",
       "  </thead>\n",
       "  <tbody>\n",
       "    <tr>\n",
       "      <th>0</th>\n",
       "      <td>I have bought several of the Vitality canned d...</td>\n",
       "      <td>1</td>\n",
       "    </tr>\n",
       "    <tr>\n",
       "      <th>1</th>\n",
       "      <td>Product arrived labeled as Jumbo Salted Peanut...</td>\n",
       "      <td>0</td>\n",
       "    </tr>\n",
       "    <tr>\n",
       "      <th>2</th>\n",
       "      <td>This is a confection that has been around a fe...</td>\n",
       "      <td>1</td>\n",
       "    </tr>\n",
       "    <tr>\n",
       "      <th>3</th>\n",
       "      <td>If you are looking for the secret ingredient i...</td>\n",
       "      <td>0</td>\n",
       "    </tr>\n",
       "    <tr>\n",
       "      <th>4</th>\n",
       "      <td>Great taffy at a great price.  There was a wid...</td>\n",
       "      <td>1</td>\n",
       "    </tr>\n",
       "    <tr>\n",
       "      <th>5</th>\n",
       "      <td>I got a wild hair for taffy and ordered this f...</td>\n",
       "      <td>1</td>\n",
       "    </tr>\n",
       "    <tr>\n",
       "      <th>6</th>\n",
       "      <td>This saltwater taffy had great flavors and was...</td>\n",
       "      <td>1</td>\n",
       "    </tr>\n",
       "    <tr>\n",
       "      <th>7</th>\n",
       "      <td>This taffy is so good.  It is very soft and ch...</td>\n",
       "      <td>1</td>\n",
       "    </tr>\n",
       "    <tr>\n",
       "      <th>8</th>\n",
       "      <td>Right now I'm mostly just sprouting this so my...</td>\n",
       "      <td>1</td>\n",
       "    </tr>\n",
       "    <tr>\n",
       "      <th>9</th>\n",
       "      <td>This is a very healthy dog food. Good for thei...</td>\n",
       "      <td>1</td>\n",
       "    </tr>\n",
       "    <tr>\n",
       "      <th>10</th>\n",
       "      <td>I don't know if it's the cactus or the tequila...</td>\n",
       "      <td>1</td>\n",
       "    </tr>\n",
       "    <tr>\n",
       "      <th>11</th>\n",
       "      <td>One of my boys needed to lose some weight and ...</td>\n",
       "      <td>1</td>\n",
       "    </tr>\n",
       "    <tr>\n",
       "      <th>12</th>\n",
       "      <td>My cats have been happily eating Felidae Plati...</td>\n",
       "      <td>0</td>\n",
       "    </tr>\n",
       "    <tr>\n",
       "      <th>13</th>\n",
       "      <td>good flavor! these came securely packed... the...</td>\n",
       "      <td>1</td>\n",
       "    </tr>\n",
       "    <tr>\n",
       "      <th>14</th>\n",
       "      <td>The Strawberry Twizzlers are my guilty pleasur...</td>\n",
       "      <td>1</td>\n",
       "    </tr>\n",
       "    <tr>\n",
       "      <th>15</th>\n",
       "      <td>My daughter loves twizzlers and this shipment ...</td>\n",
       "      <td>1</td>\n",
       "    </tr>\n",
       "    <tr>\n",
       "      <th>16</th>\n",
       "      <td>I love eating them and they are good for watch...</td>\n",
       "      <td>0</td>\n",
       "    </tr>\n",
       "    <tr>\n",
       "      <th>17</th>\n",
       "      <td>I am very satisfied with my Twizzler purchase....</td>\n",
       "      <td>1</td>\n",
       "    </tr>\n",
       "    <tr>\n",
       "      <th>18</th>\n",
       "      <td>Twizzlers, Strawberry my childhood favorite ca...</td>\n",
       "      <td>1</td>\n",
       "    </tr>\n",
       "    <tr>\n",
       "      <th>19</th>\n",
       "      <td>Candy was delivered very fast and was purchase...</td>\n",
       "      <td>1</td>\n",
       "    </tr>\n",
       "    <tr>\n",
       "      <th>20</th>\n",
       "      <td>My husband is a Twizzlers addict.  We've bough...</td>\n",
       "      <td>1</td>\n",
       "    </tr>\n",
       "    <tr>\n",
       "      <th>21</th>\n",
       "      <td>I bought these for my husband who is currently...</td>\n",
       "      <td>1</td>\n",
       "    </tr>\n",
       "    <tr>\n",
       "      <th>22</th>\n",
       "      <td>I can remember buying this candy as a kid and ...</td>\n",
       "      <td>1</td>\n",
       "    </tr>\n",
       "    <tr>\n",
       "      <th>23</th>\n",
       "      <td>I love this candy.  After weight watchers I ha...</td>\n",
       "      <td>1</td>\n",
       "    </tr>\n",
       "    <tr>\n",
       "      <th>24</th>\n",
       "      <td>I have lived out of the US for over 7 yrs now,...</td>\n",
       "      <td>1</td>\n",
       "    </tr>\n",
       "    <tr>\n",
       "      <th>25</th>\n",
       "      <td>Product received is as advertised.&lt;br /&gt;&lt;br /&gt;...</td>\n",
       "      <td>1</td>\n",
       "    </tr>\n",
       "    <tr>\n",
       "      <th>26</th>\n",
       "      <td>The candy is just red , No flavor . Just  plan...</td>\n",
       "      <td>0</td>\n",
       "    </tr>\n",
       "    <tr>\n",
       "      <th>27</th>\n",
       "      <td>I was so glad Amazon carried these batteries. ...</td>\n",
       "      <td>1</td>\n",
       "    </tr>\n",
       "    <tr>\n",
       "      <th>28</th>\n",
       "      <td>I got this for my Mum who is not diabetic but ...</td>\n",
       "      <td>1</td>\n",
       "    </tr>\n",
       "    <tr>\n",
       "      <th>29</th>\n",
       "      <td>I don't know if it's the cactus or the tequila...</td>\n",
       "      <td>1</td>\n",
       "    </tr>\n",
       "    <tr>\n",
       "      <th>30</th>\n",
       "      <td>I have never been a huge coffee fan. However, ...</td>\n",
       "      <td>1</td>\n",
       "    </tr>\n",
       "    <tr>\n",
       "      <th>31</th>\n",
       "      <td>This offer is a great price and a great taste,...</td>\n",
       "      <td>1</td>\n",
       "    </tr>\n",
       "    <tr>\n",
       "      <th>32</th>\n",
       "      <td>McCann's Instant Oatmeal is great if you must ...</td>\n",
       "      <td>1</td>\n",
       "    </tr>\n",
       "    <tr>\n",
       "      <th>33</th>\n",
       "      <td>This is a good instant oatmeal from the best o...</td>\n",
       "      <td>1</td>\n",
       "    </tr>\n",
       "    <tr>\n",
       "      <th>34</th>\n",
       "      <td>Instant oatmeal can become soggy the minute th...</td>\n",
       "      <td>1</td>\n",
       "    </tr>\n",
       "    <tr>\n",
       "      <th>35</th>\n",
       "      <td>McCann's Instant Irish Oatmeal, Variety Pack o...</td>\n",
       "      <td>1</td>\n",
       "    </tr>\n",
       "    <tr>\n",
       "      <th>36</th>\n",
       "      <td>For those of us with celiac disease this produ...</td>\n",
       "      <td>1</td>\n",
       "    </tr>\n",
       "    <tr>\n",
       "      <th>37</th>\n",
       "      <td>What else do you need to know? Oatmeal, instan...</td>\n",
       "      <td>1</td>\n",
       "    </tr>\n",
       "    <tr>\n",
       "      <th>38</th>\n",
       "      <td>I WAS VISITING MY FRIEND NATE THE OTHER MORNIN...</td>\n",
       "      <td>1</td>\n",
       "    </tr>\n",
       "    <tr>\n",
       "      <th>39</th>\n",
       "      <td>I ordered this for my wife as it was reccomend...</td>\n",
       "      <td>1</td>\n",
       "    </tr>\n",
       "    <tr>\n",
       "      <th>40</th>\n",
       "      <td>The variety packs taste great!&lt;br /&gt;&lt;br /&gt;I ha...</td>\n",
       "      <td>1</td>\n",
       "    </tr>\n",
       "    <tr>\n",
       "      <th>41</th>\n",
       "      <td>McCann's makes oatmeal for every oatmeal conno...</td>\n",
       "      <td>1</td>\n",
       "    </tr>\n",
       "    <tr>\n",
       "      <th>42</th>\n",
       "      <td>I have McCann's Oatmeal every morning and by o...</td>\n",
       "      <td>1</td>\n",
       "    </tr>\n",
       "    <tr>\n",
       "      <th>43</th>\n",
       "      <td>McCann's Oatmeal is a good quality choice.  Ou...</td>\n",
       "      <td>1</td>\n",
       "    </tr>\n",
       "    <tr>\n",
       "      <th>44</th>\n",
       "      <td>We really like the McCann's steel cut oats but...</td>\n",
       "      <td>1</td>\n",
       "    </tr>\n",
       "    <tr>\n",
       "      <th>45</th>\n",
       "      <td>This seems a little more wholesome than some o...</td>\n",
       "      <td>1</td>\n",
       "    </tr>\n",
       "    <tr>\n",
       "      <th>46</th>\n",
       "      <td>Good oatmeal.  I like the apple cinnamon the b...</td>\n",
       "      <td>1</td>\n",
       "    </tr>\n",
       "    <tr>\n",
       "      <th>47</th>\n",
       "      <td>The flavors are good.  However, I do not see a...</td>\n",
       "      <td>1</td>\n",
       "    </tr>\n",
       "    <tr>\n",
       "      <th>48</th>\n",
       "      <td>I really like the Maple and Brown Sugar flavor...</td>\n",
       "      <td>1</td>\n",
       "    </tr>\n",
       "    <tr>\n",
       "      <th>49</th>\n",
       "      <td>This is the same stuff you can buy at the big ...</td>\n",
       "      <td>1</td>\n",
       "    </tr>\n",
       "  </tbody>\n",
       "</table>\n",
       "</div>"
      ],
      "text/plain": [
       "                                                 Text  Sentiment\n",
       "0   I have bought several of the Vitality canned d...          1\n",
       "1   Product arrived labeled as Jumbo Salted Peanut...          0\n",
       "2   This is a confection that has been around a fe...          1\n",
       "3   If you are looking for the secret ingredient i...          0\n",
       "4   Great taffy at a great price.  There was a wid...          1\n",
       "5   I got a wild hair for taffy and ordered this f...          1\n",
       "6   This saltwater taffy had great flavors and was...          1\n",
       "7   This taffy is so good.  It is very soft and ch...          1\n",
       "8   Right now I'm mostly just sprouting this so my...          1\n",
       "9   This is a very healthy dog food. Good for thei...          1\n",
       "10  I don't know if it's the cactus or the tequila...          1\n",
       "11  One of my boys needed to lose some weight and ...          1\n",
       "12  My cats have been happily eating Felidae Plati...          0\n",
       "13  good flavor! these came securely packed... the...          1\n",
       "14  The Strawberry Twizzlers are my guilty pleasur...          1\n",
       "15  My daughter loves twizzlers and this shipment ...          1\n",
       "16  I love eating them and they are good for watch...          0\n",
       "17  I am very satisfied with my Twizzler purchase....          1\n",
       "18  Twizzlers, Strawberry my childhood favorite ca...          1\n",
       "19  Candy was delivered very fast and was purchase...          1\n",
       "20  My husband is a Twizzlers addict.  We've bough...          1\n",
       "21  I bought these for my husband who is currently...          1\n",
       "22  I can remember buying this candy as a kid and ...          1\n",
       "23  I love this candy.  After weight watchers I ha...          1\n",
       "24  I have lived out of the US for over 7 yrs now,...          1\n",
       "25  Product received is as advertised.<br /><br />...          1\n",
       "26  The candy is just red , No flavor . Just  plan...          0\n",
       "27  I was so glad Amazon carried these batteries. ...          1\n",
       "28  I got this for my Mum who is not diabetic but ...          1\n",
       "29  I don't know if it's the cactus or the tequila...          1\n",
       "30  I have never been a huge coffee fan. However, ...          1\n",
       "31  This offer is a great price and a great taste,...          1\n",
       "32  McCann's Instant Oatmeal is great if you must ...          1\n",
       "33  This is a good instant oatmeal from the best o...          1\n",
       "34  Instant oatmeal can become soggy the minute th...          1\n",
       "35  McCann's Instant Irish Oatmeal, Variety Pack o...          1\n",
       "36  For those of us with celiac disease this produ...          1\n",
       "37  What else do you need to know? Oatmeal, instan...          1\n",
       "38  I WAS VISITING MY FRIEND NATE THE OTHER MORNIN...          1\n",
       "39  I ordered this for my wife as it was reccomend...          1\n",
       "40  The variety packs taste great!<br /><br />I ha...          1\n",
       "41  McCann's makes oatmeal for every oatmeal conno...          1\n",
       "42  I have McCann's Oatmeal every morning and by o...          1\n",
       "43  McCann's Oatmeal is a good quality choice.  Ou...          1\n",
       "44  We really like the McCann's steel cut oats but...          1\n",
       "45  This seems a little more wholesome than some o...          1\n",
       "46  Good oatmeal.  I like the apple cinnamon the b...          1\n",
       "47  The flavors are good.  However, I do not see a...          1\n",
       "48  I really like the Maple and Brown Sugar flavor...          1\n",
       "49  This is the same stuff you can buy at the big ...          1"
      ]
     },
     "execution_count": 4,
     "metadata": {},
     "output_type": "execute_result"
    }
   ],
   "source": [
    "# importing the amazon reviews datafile and selecting the needed columns\n",
    "df = pd.read_csv(\"Reviews.csv\")\n",
    "df = df[['Score','Summary', 'Text']]\n",
    "\n",
    "# Engineering the sentiment feature from the score column\n",
    "df['Sentiment'] = df[\"Score\"].apply(lambda x: 1 if x > 2 else 0)\n",
    "df_mod = df[['Text', 'Sentiment']].copy()\n",
    "df_mod.head(50)"
   ]
  },
  {
   "cell_type": "code",
   "execution_count": 5,
   "metadata": {},
   "outputs": [],
   "source": [
    "# defining a function to carry out exploratory data analysis on the null and missing values in the data\n",
    "def info(data_fr):\n",
    "    for col in data_fr.columns:\n",
    "       # print(col ,': ',data_fr[col].value_counts())\n",
    "        print(col ,'total values: ',len(data_fr[col]))\n",
    "        print(col ,'null values: ',data_fr[col].isna().sum())\n",
    "        print(col ,'non-null values: ',data_fr[col].notnull().sum())\n",
    "        print('is unique: ', data_fr[col].nunique()/len(data_fr[col]))\n",
    "        print(col ,'duplicate values: ', (len(data_fr[col]) - data_fr[col].nunique()))\n",
    "        print('\\n')"
   ]
  },
  {
   "cell_type": "code",
   "execution_count": 6,
   "metadata": {
    "collapsed": true
   },
   "outputs": [
    {
     "name": "stdout",
     "output_type": "stream",
     "text": [
      "Score total values:  568454\n",
      "Score null values:  0\n",
      "Score non-null values:  568454\n",
      "is unique:  8.795786466451111e-06\n",
      "Score duplicate values:  568449\n",
      "\n",
      "\n",
      "Summary total values:  568454\n",
      "Summary null values:  27\n",
      "Summary non-null values:  568427\n",
      "is unique:  0.5202566962322369\n",
      "Summary duplicate values:  272712\n",
      "\n",
      "\n",
      "Text total values:  568454\n",
      "Text null values:  0\n",
      "Text non-null values:  568454\n",
      "is unique:  0.6923673683358724\n",
      "Text duplicate values:  174875\n",
      "\n",
      "\n",
      "Sentiment total values:  568454\n",
      "Sentiment null values:  0\n",
      "Sentiment non-null values:  568454\n",
      "is unique:  3.5183145865804446e-06\n",
      "Sentiment duplicate values:  568452\n",
      "\n",
      "\n"
     ]
    }
   ],
   "source": [
    "info(df)"
   ]
  },
  {
   "cell_type": "code",
   "execution_count": 7,
   "metadata": {},
   "outputs": [
    {
     "name": "stdout",
     "output_type": "stream",
     "text": [
      "Text total values:  568454\n",
      "Text null values:  0\n",
      "Text non-null values:  568454\n",
      "is unique:  0.6923673683358724\n",
      "Text duplicate values:  174875\n",
      "\n",
      "\n",
      "Sentiment total values:  568454\n",
      "Sentiment null values:  0\n",
      "Sentiment non-null values:  568454\n",
      "is unique:  3.5183145865804446e-06\n",
      "Sentiment duplicate values:  568452\n",
      "\n",
      "\n"
     ]
    }
   ],
   "source": [
    "#dropping the summary columnn to allow us focus on just the text feature we would be working with\n",
    "df.dropna(subset = ['Summary'], inplace = True)\n",
    "info(df_mod)"
   ]
  },
  {
   "cell_type": "code",
   "execution_count": 9,
   "metadata": {},
   "outputs": [],
   "source": [
    "# shuffling up the dataset to improve diversity of the datafile before splitting\n",
    "from sklearn.utils import shuffle\n",
    "df_mod = shuffle(df_mod)"
   ]
  },
  {
   "cell_type": "code",
   "execution_count": 10,
   "metadata": {},
   "outputs": [
    {
     "data": {
      "text/plain": [
       "1    486417\n",
       "0     82037\n",
       "Name: Sentiment, dtype: int64"
      ]
     },
     "execution_count": 10,
     "metadata": {},
     "output_type": "execute_result"
    }
   ],
   "source": [
    "# checking the different number of rows for each label in out target feature\n",
    "df_mod.Sentiment.value_counts()"
   ]
  },
  {
   "cell_type": "code",
   "execution_count": 11,
   "metadata": {},
   "outputs": [
    {
     "data": {
      "text/plain": [
       "568454"
      ]
     },
     "execution_count": 11,
     "metadata": {},
     "output_type": "execute_result"
    }
   ],
   "source": [
    "# creating a list to contain all the texts from our dataframe in preparation for tokenization of the words\n",
    "lines =[] \n",
    "  \n",
    "# Iterate over each row \n",
    "for index, rows in df_mod.iterrows(): \n",
    "    # Create list for the current row \n",
    "    my_list =str(rows.Text)\n",
    "      \n",
    "    # append the list to the final list \n",
    "    lines.append(my_list) \n",
    "  \n",
    "# Print the list \n",
    "len(lines)"
   ]
  },
  {
   "cell_type": "code",
   "execution_count": 12,
   "metadata": {},
   "outputs": [],
   "source": [
    "label=list(df_mod['Sentiment'])"
   ]
  },
  {
   "cell_type": "code",
   "execution_count": 13,
   "metadata": {},
   "outputs": [],
   "source": [
    "# tokenizing the words in the lines list so as to allow the data be usable my our neural network models\n",
    "tokenizer = Tokenizer(num_words=1000)\n",
    "tokenizer.fit_on_texts(lines)\n",
    "sequences = tokenizer.texts_to_sequences(lines)"
   ]
  },
  {
   "cell_type": "code",
   "execution_count": 18,
   "metadata": {},
   "outputs": [],
   "source": [
    "sequences = np.array(sequences)\n",
    "label = np.array(label)"
   ]
  },
  {
   "cell_type": "markdown",
   "metadata": {},
   "source": [
    "# Modelling"
   ]
  },
  {
   "cell_type": "code",
   "execution_count": 19,
   "metadata": {},
   "outputs": [],
   "source": [
    "# maually splitting the data into test and train test using a rough 70/30 distribution\n",
    "x_train=sequences[:390000]\n",
    "y_train=label[:390000]\n",
    "x_test=sequences[390000:]\n",
    "y_test=label[390000:]"
   ]
  },
  {
   "cell_type": "code",
   "execution_count": 20,
   "metadata": {},
   "outputs": [],
   "source": [
    "# importing keras to preprocess our train and test data by padding them with zero values so each sub-list in them\n",
    "# contains the same number of elements\n",
    "maxlen = 100\n",
    "from keras import preprocessing\n",
    "x_train = preprocessing.sequence.pad_sequences(x_train, maxlen=maxlen)\n",
    "x_test = preprocessing.sequence.pad_sequences(x_test, maxlen=maxlen)"
   ]
  },
  {
   "cell_type": "code",
   "execution_count": 17,
   "metadata": {},
   "outputs": [],
   "source": [
    "#using smote to address data imbalance\n",
    "smote = SMOTE(random_state=1, k_neighbors=6)\n",
    "\n",
    "x_train_smote, y_smote = smote.fit_resample(x_train, y_train)\n"
   ]
  },
  {
   "cell_type": "code",
   "execution_count": 21,
   "metadata": {},
   "outputs": [
    {
     "name": "stdout",
     "output_type": "stream",
     "text": [
      "1    333799\n",
      "0     56201\n",
      "Name: Sentiment, dtype: int64\n"
     ]
    }
   ],
   "source": [
    "y_df = pd.DataFrame(y_train, columns= [\"Sentiment\"])\n",
    "print(y_df[\"Sentiment\"].value_counts())"
   ]
  },
  {
   "cell_type": "code",
   "execution_count": 22,
   "metadata": {},
   "outputs": [
    {
     "name": "stdout",
     "output_type": "stream",
     "text": [
      "1    333799\n",
      "0    333799\n",
      "Name: Sentiment, dtype: int64\n"
     ]
    }
   ],
   "source": [
    "y_sdf = pd.DataFrame(y_smote, columns= [\"Sentiment\"])\n",
    "print(y_sdf[\"Sentiment\"].value_counts())"
   ]
  },
  {
   "cell_type": "code",
   "execution_count": 23,
   "metadata": {
    "scrolled": true
   },
   "outputs": [
    {
     "name": "stdout",
     "output_type": "stream",
     "text": [
      "   Y train  Y smote\n",
      "0   333881   333881\n",
      "1    56119   333881\n"
     ]
    },
    {
     "data": {
      "text/plain": [
       "<matplotlib.axes._subplots.AxesSubplot at 0x233a45918c8>"
      ]
     },
     "execution_count": 23,
     "metadata": {},
     "output_type": "execute_result"
    },
    {
     "data": {
      "image/png": "[encoded data removed]",
      "text/plain": [
       "<Figure size 1080x720 with 1 Axes>"
      ]
     },
     "metadata": {},
     "output_type": "display_data"
    }
   ],
   "source": [
    "# Creating bargraph to show class distribution of data before and after smote oversampling\n",
    "import matplotlib.pyplot as plt\n",
    "from matplotlib import style\n",
    "import seaborn as sns\n",
    "y_dict = {'Y train': [333881, 56119], 'Y smote': [333881, 333881]}\n",
    "\n",
    "y_comb = pd.DataFrame(data=y_dict)\n",
    "\n",
    "print(y_comb)\n",
    "\n",
    "# plotting the rss values of each feature on the train and test data side by side as a multiple bargraph\n",
    "style.use('ggplot')\n",
    "y_comb.T.plot(kind='bar',figsize=(15,10))"
   ]
  },
  {
   "cell_type": "markdown",
   "metadata": {},
   "source": [
    "## Baseline model - Logistic Regression"
   ]
  },
  {
   "cell_type": "code",
   "execution_count": 24,
   "metadata": {
    "scrolled": false
   },
   "outputs": [
    {
     "name": "stdout",
     "output_type": "stream",
     "text": [
      "0.489112040077555\n",
      "              precision    recall  f1-score   support\n",
      "\n",
      "           0       0.14      0.50      0.22     25836\n",
      "           1       0.85      0.49      0.62    152618\n",
      "\n",
      "    accuracy                           0.49    178454\n",
      "   macro avg       0.50      0.49      0.42    178454\n",
      "weighted avg       0.75      0.49      0.56    178454\n",
      "\n"
     ]
    }
   ],
   "source": [
    "# using the logistic regression model to establish a baseline performance our models should surpass\n",
    "lr_model = LogisticRegression()\n",
    "lr_model.fit(x_train_smote, y_smote)\n",
    "\n",
    "# printing out its performance\n",
    "y_pred_lr = lr_model.predict(x_test)\n",
    "print (accuracy_score(y_test, y_pred_lr))\n",
    "print(metrics.classification_report(y_test, y_pred_lr))"
   ]
  },
  {
   "cell_type": "markdown",
   "metadata": {},
   "source": [
    "## RNN model"
   ]
  },
  {
   "cell_type": "code",
   "execution_count": 31,
   "metadata": {
    "scrolled": false
   },
   "outputs": [
    {
     "name": "stdout",
     "output_type": "stream",
     "text": [
      "Model: \"sequential_2\"\n",
      "_________________________________________________________________\n",
      "Layer (type)                 Output Shape              Param #   \n",
      "=================================================================\n",
      "embedding_2 (Embedding)      (None, 100, 32)           32000     \n",
      "_________________________________________________________________\n",
      "dropout_4 (Dropout)          (None, 100, 32)           0         \n",
      "_________________________________________________________________\n",
      "batch_normalization_4 (Batch (None, 100, 32)           128       \n",
      "_________________________________________________________________\n",
      "simple_rnn_1 (SimpleRNN)     (None, 32)                2080      \n",
      "_________________________________________________________________\n",
      "dropout_5 (Dropout)          (None, 32)                0         \n",
      "_________________________________________________________________\n",
      "batch_normalization_5 (Batch (None, 32)                128       \n",
      "_________________________________________________________________\n",
      "dense_2 (Dense)              (None, 1)                 33        \n",
      "=================================================================\n",
      "Total params: 34,369\n",
      "Trainable params: 34,241\n",
      "Non-trainable params: 128\n",
      "_________________________________________________________________\n",
      "Epoch 1/8\n",
      "2087/2087 [==============================] - 135s 65ms/step - loss: 0.4287 - acc: 0.8056 - val_loss: 0.2509 - val_acc: 0.9220\n",
      "Epoch 2/8\n",
      "2087/2087 [==============================] - 129s 62ms/step - loss: 0.3075 - acc: 0.8764 - val_loss: 0.1652 - val_acc: 0.9505\n",
      "Epoch 3/8\n",
      "2087/2087 [==============================] - 135s 64ms/step - loss: 0.2830 - acc: 0.8866 - val_loss: 0.3790 - val_acc: 0.8822\n",
      "Epoch 4/8\n",
      "2087/2087 [==============================] - 127s 61ms/step - loss: 0.2693 - acc: 0.8913 - val_loss: 0.4155 - val_acc: 0.8665\n",
      "Epoch 5/8\n",
      "2087/2087 [==============================] - 144s 69ms/step - loss: 0.2595 - acc: 0.8960 - val_loss: 0.2693 - val_acc: 0.9104\n",
      "Epoch 6/8\n",
      "2087/2087 [==============================] - 135s 65ms/step - loss: 0.2515 - acc: 0.8984 - val_loss: 0.3977 - val_acc: 0.8707\n",
      "Epoch 7/8\n",
      "2087/2087 [==============================] - 146s 70ms/step - loss: 0.2467 - acc: 0.9010 - val_loss: 0.1210 - val_acc: 0.9611\n",
      "Epoch 8/8\n",
      "2087/2087 [==============================] - 139s 67ms/step - loss: 0.2418 - acc: 0.9028 - val_loss: 0.3151 - val_acc: 0.8800\n"
     ]
    }
   ],
   "source": [
    "# building a simple RNN model with a single dense sigmoid layer to fit our binary class data\n",
    "from keras.layers import Embedding,SimpleRNN\n",
    "from keras.layers import Flatten, Dense\n",
    "from keras.layers import Embedding,SimpleRNN\n",
    "\n",
    "input_shape = [x_train_smote.shape[1]]\n",
    "\n",
    "model_rnn = Sequential()\n",
    "model_rnn.add(Embedding(1000, 32, input_length=maxlen))\n",
    "model_rnn.add(Dropout(rate=0.3))\n",
    "model_rnn.add(BatchNormalization())\n",
    "model_rnn.add(SimpleRNN(32))\n",
    "model_rnn.add(Dropout(rate=0.3))\n",
    "model_rnn.add(BatchNormalization())\n",
    "model_rnn.add(Dense(1, activation='sigmoid'))\n",
    "model_rnn.compile(optimizer='rmsprop', loss='binary_crossentropy', metrics=['acc'])\n",
    "model_rnn.summary()\n",
    "history_rnn = model_rnn.fit(x_train_smote, y_smote, epochs=8, batch_size=256, validation_split=0.2)"
   ]
  },
  {
   "cell_type": "code",
   "execution_count": 32,
   "metadata": {},
   "outputs": [],
   "source": [
    "# predict crisp classes for test set\n",
    "rnn_y_classes = model_rnn.predict_classes(x_test, verbose=0)"
   ]
  },
  {
   "cell_type": "code",
   "execution_count": 33,
   "metadata": {},
   "outputs": [
    {
     "name": "stdout",
     "output_type": "stream",
     "text": [
      "              precision    recall  f1-score   support\n",
      "\n",
      "           0       0.81      0.45      0.58     25836\n",
      "           1       0.91      0.98      0.95    152618\n",
      "\n",
      "    accuracy                           0.91    178454\n",
      "   macro avg       0.86      0.72      0.77    178454\n",
      "weighted avg       0.90      0.91      0.89    178454\n",
      "\n"
     ]
    }
   ],
   "source": [
    "# obtain performance of RNN model\n",
    "print(metrics.classification_report(y_test, rnn_y_classes))"
   ]
  },
  {
   "cell_type": "code",
   "execution_count": 78,
   "metadata": {
    "scrolled": true
   },
   "outputs": [
    {
     "name": "stdout",
     "output_type": "stream",
     "text": [
      "              precision    recall  f1-score   support\n",
      "\n",
      "           0       0.70      0.65      0.67     25918\n",
      "           1       0.94      0.95      0.95    152536\n",
      "\n",
      "    accuracy                           0.91    178454\n",
      "   macro avg       0.82      0.80      0.81    178454\n",
      "weighted avg       0.91      0.91      0.91    178454\n",
      "\n"
     ]
    }
   ],
   "source": [
    "# obtain performance of RNN model\n",
    "print(metrics.classification_report(y_test, rnn_y_classes))"
   ]
  },
  {
   "cell_type": "markdown",
   "metadata": {},
   "source": [
    "## LSTM model"
   ]
  },
  {
   "cell_type": "code",
   "execution_count": 34,
   "metadata": {},
   "outputs": [
    {
     "name": "stdout",
     "output_type": "stream",
     "text": [
      "Model: \"sequential_3\"\n",
      "_________________________________________________________________\n",
      "Layer (type)                 Output Shape              Param #   \n",
      "=================================================================\n",
      "embedding_3 (Embedding)      (None, 100, 32)           32000     \n",
      "_________________________________________________________________\n",
      "dropout_6 (Dropout)          (None, 100, 32)           0         \n",
      "_________________________________________________________________\n",
      "batch_normalization_6 (Batch (None, 100, 32)           128       \n",
      "_________________________________________________________________\n",
      "lstm_1 (LSTM)                (None, 32)                8320      \n",
      "_________________________________________________________________\n",
      "dropout_7 (Dropout)          (None, 32)                0         \n",
      "_________________________________________________________________\n",
      "batch_normalization_7 (Batch (None, 32)                128       \n",
      "_________________________________________________________________\n",
      "dense_3 (Dense)              (None, 1)                 33        \n",
      "=================================================================\n",
      "Total params: 40,609\n",
      "Trainable params: 40,481\n",
      "Non-trainable params: 128\n",
      "_________________________________________________________________\n",
      "Epoch 1/8\n",
      "2087/2087 [==============================] - 305s 146ms/step - loss: 0.2867 - acc: 0.8756 - val_loss: 0.1479 - val_acc: 0.9457\n",
      "Epoch 2/8\n",
      "2087/2087 [==============================] - 328s 157ms/step - loss: 0.2054 - acc: 0.9159 - val_loss: 0.2108 - val_acc: 0.9290\n",
      "Epoch 3/8\n",
      "2087/2087 [==============================] - 296s 142ms/step - loss: 0.1906 - acc: 0.9227 - val_loss: 0.1798 - val_acc: 0.9464\n",
      "Epoch 4/8\n",
      "2087/2087 [==============================] - 267s 128ms/step - loss: 0.1823 - acc: 0.9261 - val_loss: 0.1613 - val_acc: 0.9397\n",
      "Epoch 5/8\n",
      "2087/2087 [==============================] - 268s 128ms/step - loss: 0.1770 - acc: 0.9286 - val_loss: 0.0948 - val_acc: 0.9673\n",
      "Epoch 6/8\n",
      "2087/2087 [==============================] - 276s 132ms/step - loss: 0.1738 - acc: 0.9296 - val_loss: 0.1701 - val_acc: 0.9405\n",
      "Epoch 7/8\n",
      "2087/2087 [==============================] - 326s 156ms/step - loss: 0.1708 - acc: 0.9312 - val_loss: 0.1374 - val_acc: 0.9485\n",
      "Epoch 8/8\n",
      "2087/2087 [==============================] - 289s 138ms/step - loss: 0.1686 - acc: 0.9321 - val_loss: 0.1113 - val_acc: 0.9558\n"
     ]
    }
   ],
   "source": [
    "# building a LSTM model with a single dense sigmoid layer to fit our binary class data\n",
    "model_lstm = Sequential()\n",
    "model_lstm.add(Embedding(1000, 32, input_length=maxlen))\n",
    "model_lstm.add(Dropout(rate=0.3))\n",
    "model_lstm.add(BatchNormalization())\n",
    "model_lstm.add(LSTM(32))\n",
    "model_lstm.add(Dropout(rate=0.3))\n",
    "model_lstm.add(BatchNormalization())\n",
    "model_lstm.add(Dense(1, activation='sigmoid'))\n",
    "model_lstm.compile(optimizer='rmsprop', loss='binary_crossentropy', metrics=['acc'])\n",
    "model_lstm.summary()\n",
    "history_lstm = model_lstm.fit(x_train_smote, y_smote, epochs=8, batch_size=256, validation_split=0.2)"
   ]
  },
  {
   "cell_type": "code",
   "execution_count": 35,
   "metadata": {},
   "outputs": [],
   "source": [
    "# predict crisp classes for test set\n",
    "lstm_y_classes = model_lstm.predict_classes(x_test, verbose=0)"
   ]
  },
  {
   "cell_type": "code",
   "execution_count": 36,
   "metadata": {},
   "outputs": [
    {
     "name": "stdout",
     "output_type": "stream",
     "text": [
      "              precision    recall  f1-score   support\n",
      "\n",
      "           0       0.81      0.64      0.72     25836\n",
      "           1       0.94      0.97      0.96    152618\n",
      "\n",
      "    accuracy                           0.93    178454\n",
      "   macro avg       0.87      0.81      0.84    178454\n",
      "weighted avg       0.92      0.93      0.92    178454\n",
      "\n"
     ]
    }
   ],
   "source": [
    "# obtain performance of LSTM model\n",
    "print(metrics.classification_report(y_test, lstm_y_classes))"
   ]
  },
  {
   "cell_type": "code",
   "execution_count": 83,
   "metadata": {
    "scrolled": true
   },
   "outputs": [
    {
     "name": "stdout",
     "output_type": "stream",
     "text": [
      "              precision    recall  f1-score   support\n",
      "\n",
      "           0       0.78      0.70      0.74     25918\n",
      "           1       0.95      0.97      0.96    152536\n",
      "\n",
      "    accuracy                           0.93    178454\n",
      "   macro avg       0.87      0.84      0.85    178454\n",
      "weighted avg       0.93      0.93      0.93    178454\n",
      "\n"
     ]
    }
   ],
   "source": [
    "# obtain performance of LSTM model\n",
    "print(metrics.classification_report(y_test, lstm_y_classes))"
   ]
  },
  {
   "cell_type": "markdown",
   "metadata": {},
   "source": [
    "## Graphs"
   ]
  },
  {
   "cell_type": "code",
   "execution_count": 45,
   "metadata": {
    "scrolled": true
   },
   "outputs": [
    {
     "data": {
      "image/png": "[encoded data removed]",
      "text/plain": [
       "<Figure size 432x288 with 1 Axes>"
      ]
     },
     "metadata": {},
     "output_type": "display_data"
    }
   ],
   "source": [
    "plt.plot(history_rnn.history['acc'])\n",
    "plt.plot(history_lstm.history['acc'])\n",
    "plt.title('model train accuracy')\n",
    "plt.ylabel('accuracy')\n",
    "plt.xlabel('epoch')\n",
    "plt.legend(['train_rnn', 'train_lstm'], loc='lower right')\n",
    "plt.show()"
   ]
  },
  {
   "cell_type": "code",
   "execution_count": 46,
   "metadata": {
    "scrolled": true
   },
   "outputs": [
    {
     "data": {
      "image/png": "[encoded data removed]",
      "text/plain": [
       "<Figure size 432x288 with 1 Axes>"
      ]
     },
     "metadata": {},
     "output_type": "display_data"
    }
   ],
   "source": [
    "plt.plot(history_rnn.history['val_acc'])\n",
    "plt.plot(history_lstm.history['val_acc'])\n",
    "plt.title('model validation accuracy')\n",
    "plt.ylabel('accuracy')\n",
    "plt.xlabel('epoch')\n",
    "plt.legend(['val_rnn', 'val_lstm'], loc='lower right')\n",
    "plt.show()"
   ]
  },
  {
   "cell_type": "code",
   "execution_count": 48,
   "metadata": {
    "scrolled": false
   },
   "outputs": [
    {
     "data": {
      "image/png": "[encoded data removed]",
      "text/plain": [
       "<Figure size 432x288 with 1 Axes>"
      ]
     },
     "metadata": {},
     "output_type": "display_data"
    }
   ],
   "source": [
    "plt.plot(history_rnn.history['loss'])\n",
    "plt.plot(history_lstm.history['loss'])\n",
    "plt.title('model train loss')\n",
    "plt.ylabel('accuracy')\n",
    "plt.xlabel('epoch')\n",
    "plt.legend(['train_rnn', 'train_lstm'], loc='upper right')\n",
    "plt.show()"
   ]
  },
  {
   "cell_type": "code",
   "execution_count": 50,
   "metadata": {
    "scrolled": true
   },
   "outputs": [
    {
     "data": {
      "image/png": "[encoded data removed]",
      "text/plain": [
       "<Figure size 432x288 with 1 Axes>"
      ]
     },
     "metadata": {},
     "output_type": "display_data"
    }
   ],
   "source": [
    "plt.plot(history_rnn.history['val_loss'])\n",
    "plt.plot(history_lstm.history['val_loss'])\n",
    "plt.title('model validation loss')\n",
    "plt.ylabel('accuracy')\n",
    "plt.xlabel('epoch')\n",
    "plt.legend(['val_rnn', 'val_lstm'], loc='upper right')\n",
    "plt.show()"
   ]
  },
  {
   "cell_type": "code",
   "execution_count": null,
   "metadata": {},
   "outputs": [],
   "source": []
  }
 ],
 "metadata": {
  "kernelspec": {
   "display_name": "Python 3",
   "language": "python",
   "name": "python3"
  },
  "language_info": {
   "codemirror_mode": {
    "name": "ipython",
    "version": 3
   },
   "file_extension": ".py",
   "mimetype": "text/x-python",
   "name": "python",
   "nbconvert_exporter": "python",
   "pygments_lexer": "ipython3",
   "version": "3.7.6"
  }
 },
 "nbformat": 4,
 "nbformat_minor": 4
}
